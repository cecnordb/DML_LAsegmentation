{
 "cells": [
  {
   "cell_type": "code",
   "execution_count": 1,
   "metadata": {},
   "outputs": [
    {
     "name": "stdout",
     "output_type": "stream",
     "text": [
      "/home/albin/skolarbete/DML_LAsegmentation\n"
     ]
    }
   ],
   "source": [
    "%cd \"/home/albin/skolarbete/DML_LAsegmentation\""
   ]
  },
  {
   "cell_type": "code",
   "execution_count": 2,
   "metadata": {},
   "outputs": [],
   "source": [
    "from scripts.train import train, validate\n",
    "from scripts.utils import CombinedLoss\n",
    "from models.unet import UNet3D\n",
    "import pandas as pd\n",
    "import numpy as np\n",
    "import torch\n",
    "import matplotlib.pyplot as plt\n",
    "\n",
    "from scripts.dataset import TrainDataset, TestDataset"
   ]
  },
  {
   "cell_type": "code",
   "execution_count": 3,
   "metadata": {},
   "outputs": [],
   "source": [
    "train_image_path = 'data/Task02_Heart/imagesTr'\n",
    "train_label_path = 'data/Task02_Heart/labelsTr'\n",
    "val_image_path = 'data/Task02_Heart/imagesVl'\n",
    "val_label_path = 'data/Task02_Heart/labelsVl'\n",
    "\n",
    "patch_size = (32, 32, 32)\n",
    "train_dataset = TrainDataset(train_image_path, train_label_path, patch_size)\n",
    "val_dataset = TrainDataset(val_image_path, val_label_path, patch_size)\n",
    "\n",
    "batch_size = 10\n",
    "train_loader = torch.utils.data.DataLoader(train_dataset, batch_size=batch_size, shuffle=True, num_workers=4)\n",
    "val_loader = torch.utils.data.DataLoader(val_dataset, batch_size=batch_size, shuffle=False, num_workers=4)"
   ]
  },
  {
   "cell_type": "code",
   "execution_count": 4,
   "metadata": {},
   "outputs": [
    {
     "name": "stdout",
     "output_type": "stream",
     "text": [
      "Starting training on device cuda...\n"
     ]
    },
    {
     "name": "stderr",
     "output_type": "stream",
     "text": [
      "/home/albin/miniconda3/envs/dml/lib/python3.11/site-packages/torch/nn/modules/conv.py:605: UserWarning: Applied workaround for CuDNN issue, install nvrtc.so (Triggered internally at ../aten/src/ATen/native/cudnn/Conv_v8.cpp:84.)\n",
      "  return F.conv3d(\n"
     ]
    },
    {
     "name": "stdout",
     "output_type": "stream",
     "text": [
      "Epoch 1 of 100 took 0.88s | Training: loss=0.0680, iou=0.0017, dice=0.0107\n",
      "Epoch 2 of 100 took 0.62s | Training: loss=0.0000, iou=0.0000, dice=0.0001\n",
      "Epoch 3 of 100 took 0.66s | Training: loss=0.7728, iou=0.0322, dice=0.1081\n",
      "Epoch 4 of 100 took 0.66s | Training: loss=0.0000, iou=0.0000, dice=0.0001\n",
      "Epoch 5 of 100 took 0.61s | Training: loss=0.0000, iou=0.0000, dice=0.0001\n",
      "Epoch 6 of 100 took 0.59s | Training: loss=0.6265, iou=0.0243, dice=0.0778\n",
      "Epoch 7 of 100 took 0.66s | Training: loss=0.0000, iou=0.0000, dice=0.0001\n",
      "Epoch 8 of 100 took 0.62s | Training: loss=0.3164, iou=0.0283, dice=0.0522\n",
      "Epoch 9 of 100 took 0.64s | Training: loss=0.0000, iou=0.0000, dice=0.0001\n",
      "Epoch 10 of 100 took 0.66s | Training: loss=0.0000, iou=0.0000, dice=0.0000\n",
      "Validation: loss=0.0000, iou=0.0000, dice=0.0004\n",
      "Epoch 11 of 100 took 0.65s | Training: loss=0.0000, iou=0.0000, dice=0.0001\n",
      "Epoch 12 of 100 took 0.63s | Training: loss=2.7266, iou=0.0841, dice=0.1797\n",
      "Epoch 13 of 100 took 0.65s | Training: loss=0.0000, iou=0.0000, dice=0.0000\n",
      "Epoch 14 of 100 took 0.59s | Training: loss=0.6554, iou=0.0101, dice=0.0326\n",
      "Epoch 15 of 100 took 0.64s | Training: loss=5.8687, iou=0.3374, dice=0.4342\n",
      "Epoch 16 of 100 took 0.61s | Training: loss=0.0000, iou=0.0000, dice=0.0000\n",
      "Epoch 17 of 100 took 0.62s | Training: loss=7.5017, iou=0.1642, dice=0.3053\n",
      "Epoch 18 of 100 took 0.65s | Training: loss=0.0000, iou=0.0000, dice=0.0001\n",
      "Epoch 19 of 100 took 0.62s | Training: loss=0.0000, iou=0.0000, dice=0.0000\n",
      "Epoch 20 of 100 took 0.62s | Training: loss=0.2926, iou=0.0262, dice=0.0463\n",
      "Validation: loss=0.0000, iou=0.0000, dice=0.0000\n",
      "Epoch 21 of 100 took 0.61s | Training: loss=0.0384, iou=0.0012, dice=0.0034\n",
      "Epoch 22 of 100 took 0.65s | Training: loss=0.6515, iou=0.0416, dice=0.0930\n",
      "Epoch 23 of 100 took 0.62s | Training: loss=0.0000, iou=0.0000, dice=0.0001\n",
      "Epoch 24 of 100 took 0.62s | Training: loss=0.0000, iou=0.0000, dice=0.0000\n",
      "Epoch 25 of 100 took 0.62s | Training: loss=0.0043, iou=0.0001, dice=0.0004\n",
      "Epoch 26 of 100 took 0.67s | Training: loss=0.0000, iou=0.0000, dice=0.0001\n",
      "Epoch 27 of 100 took 0.63s | Training: loss=0.0000, iou=0.0000, dice=0.0000\n",
      "Epoch 28 of 100 took 0.63s | Training: loss=0.7895, iou=0.0607, dice=0.0894\n",
      "Epoch 29 of 100 took 0.61s | Training: loss=0.0000, iou=0.0000, dice=0.0000\n",
      "Epoch 30 of 100 took 0.61s | Training: loss=0.0000, iou=0.0000, dice=0.0000\n",
      "Validation: loss=0.0000, iou=0.0000, dice=0.0001\n",
      "Epoch 31 of 100 took 0.60s | Training: loss=0.0000, iou=0.0000, dice=0.0000\n",
      "Epoch 32 of 100 took 0.65s | Training: loss=0.0000, iou=0.0000, dice=0.0000\n",
      "Epoch 33 of 100 took 0.64s | Training: loss=2.8971, iou=0.2871, dice=0.3197\n",
      "Epoch 34 of 100 took 0.65s | Training: loss=0.0000, iou=0.0000, dice=0.0000\n",
      "Epoch 35 of 100 took 0.66s | Training: loss=0.3764, iou=0.0218, dice=0.0387\n",
      "Epoch 36 of 100 took 0.63s | Training: loss=0.0000, iou=0.0000, dice=0.0001\n",
      "Epoch 37 of 100 took 0.60s | Training: loss=0.0000, iou=0.0000, dice=0.0000\n",
      "Epoch 38 of 100 took 0.62s | Training: loss=3.4388, iou=0.2645, dice=0.2635\n",
      "Epoch 39 of 100 took 0.65s | Training: loss=1.5880, iou=0.1185, dice=0.1525\n",
      "Epoch 40 of 100 took 0.61s | Training: loss=0.0000, iou=0.0000, dice=0.0000\n",
      "Validation: loss=0.4820, iou=0.0184, dice=0.0419\n",
      "Epoch 41 of 100 took 0.62s | Training: loss=0.3809, iou=0.0327, dice=0.0428\n",
      "Epoch 42 of 100 took 0.75s | Training: loss=0.0288, iou=0.0099, dice=0.0066\n",
      "Epoch 43 of 100 took 0.66s | Training: loss=0.2613, iou=0.0272, dice=0.0328\n",
      "Epoch 44 of 100 took 0.64s | Training: loss=0.7640, iou=0.0964, dice=0.1191\n",
      "Epoch 45 of 100 took 0.63s | Training: loss=0.0000, iou=0.0000, dice=0.0000\n",
      "Epoch 46 of 100 took 0.62s | Training: loss=0.0000, iou=0.0000, dice=0.0001\n",
      "Epoch 47 of 100 took 0.61s | Training: loss=0.0081, iou=0.0007, dice=0.0019\n",
      "Epoch 48 of 100 took 0.63s | Training: loss=4.1884, iou=0.4787, dice=0.4576\n",
      "Epoch 49 of 100 took 0.64s | Training: loss=0.0000, iou=0.0000, dice=0.0000\n",
      "Epoch 50 of 100 took 0.60s | Training: loss=5.6877, iou=0.4175, dice=0.3398\n",
      "Validation: loss=0.0000, iou=0.0000, dice=0.0000\n",
      "Epoch 51 of 100 took 0.61s | Training: loss=0.0000, iou=0.0000, dice=0.0000\n",
      "Epoch 52 of 100 took 0.64s | Training: loss=3.2394, iou=0.2536, dice=0.2711\n",
      "Epoch 53 of 100 took 0.62s | Training: loss=0.0000, iou=0.0000, dice=0.0000\n",
      "Epoch 54 of 100 took 0.63s | Training: loss=4.3762, iou=0.6586, dice=0.3737\n",
      "Epoch 55 of 100 took 0.64s | Training: loss=0.0000, iou=0.0000, dice=0.0000\n",
      "Epoch 56 of 100 took 0.60s | Training: loss=1.0968, iou=0.0880, dice=0.1285\n",
      "Epoch 57 of 100 took 0.66s | Training: loss=0.6011, iou=0.0636, dice=0.0613\n",
      "Epoch 58 of 100 took 0.60s | Training: loss=0.3196, iou=0.0202, dice=0.0332\n",
      "Epoch 59 of 100 took 0.63s | Training: loss=0.0385, iou=0.0011, dice=0.0007\n",
      "Epoch 60 of 100 took 0.62s | Training: loss=0.0000, iou=0.0000, dice=0.0000\n",
      "Validation: loss=0.0000, iou=0.0000, dice=0.0000\n",
      "Epoch 61 of 100 took 0.62s | Training: loss=0.0000, iou=0.0000, dice=0.0000\n",
      "Epoch 62 of 100 took 0.62s | Training: loss=0.0837, iou=0.0133, dice=0.0080\n",
      "Epoch 63 of 100 took 0.63s | Training: loss=0.0098, iou=0.0001, dice=0.0002\n",
      "Epoch 64 of 100 took 0.61s | Training: loss=0.0000, iou=0.0000, dice=0.0000\n",
      "Epoch 65 of 100 took 0.62s | Training: loss=0.0000, iou=0.0000, dice=0.0001\n",
      "Epoch 66 of 100 took 0.63s | Training: loss=0.4226, iou=0.0999, dice=0.0348\n",
      "Epoch 67 of 100 took 0.64s | Training: loss=0.9277, iou=0.1303, dice=0.1379\n",
      "Epoch 68 of 100 took 0.60s | Training: loss=0.2040, iou=0.0121, dice=0.0118\n",
      "Epoch 69 of 100 took 0.61s | Training: loss=0.0000, iou=0.0000, dice=0.0000\n",
      "Epoch 70 of 100 took 0.63s | Training: loss=0.0000, iou=0.0000, dice=0.0000\n",
      "Validation: loss=0.0000, iou=0.0000, dice=0.0000\n",
      "Epoch 71 of 100 took 0.63s | Training: loss=5.5266, iou=0.2387, dice=0.1622\n",
      "Epoch 72 of 100 took 0.62s | Training: loss=0.6169, iou=0.0751, dice=0.0335\n",
      "Epoch 73 of 100 took 0.63s | Training: loss=0.0000, iou=0.0000, dice=0.0000\n",
      "Epoch 74 of 100 took 0.61s | Training: loss=0.0189, iou=0.0002, dice=0.0004\n",
      "Epoch 75 of 100 took 0.60s | Training: loss=1.1140, iou=0.0758, dice=0.0476\n",
      "Epoch 76 of 100 took 0.64s | Training: loss=0.0000, iou=0.0000, dice=0.0000\n",
      "Epoch 77 of 100 took 0.63s | Training: loss=0.0000, iou=0.0000, dice=0.0000\n",
      "Epoch 78 of 100 took 0.61s | Training: loss=0.0000, iou=0.0000, dice=0.0000\n",
      "Epoch 79 of 100 took 0.60s | Training: loss=3.3659, iou=0.3862, dice=0.1499\n",
      "Epoch 80 of 100 took 0.66s | Training: loss=0.0000, iou=0.0000, dice=0.0000\n",
      "Validation: loss=0.0000, iou=0.0000, dice=0.0000\n",
      "Epoch 81 of 100 took 0.61s | Training: loss=4.3514, iou=0.3316, dice=0.1585\n",
      "Epoch 82 of 100 took 0.63s | Training: loss=0.0000, iou=0.0000, dice=0.0000\n",
      "Epoch 83 of 100 took 0.63s | Training: loss=0.0000, iou=0.0000, dice=0.0000\n",
      "Epoch 84 of 100 took 0.62s | Training: loss=0.9139, iou=0.1257, dice=0.0535\n",
      "Epoch 85 of 100 took 0.63s | Training: loss=0.0000, iou=0.0000, dice=0.0000\n",
      "Epoch 86 of 100 took 0.64s | Training: loss=0.0000, iou=0.0000, dice=0.0000\n",
      "Epoch 87 of 100 took 0.59s | Training: loss=0.0000, iou=0.0000, dice=0.0000\n",
      "Epoch 88 of 100 took 0.70s | Training: loss=0.0741, iou=0.0038, dice=0.0085\n",
      "Epoch 89 of 100 took 0.77s | Training: loss=0.0000, iou=0.0000, dice=0.0000\n",
      "Epoch 90 of 100 took 0.64s | Training: loss=0.0000, iou=0.0000, dice=0.0000\n",
      "Validation: loss=8.7528, iou=0.6089, dice=0.2863\n",
      "Epoch 91 of 100 took 0.62s | Training: loss=0.0000, iou=0.0000, dice=0.0000\n",
      "Epoch 92 of 100 took 0.66s | Training: loss=0.0000, iou=0.0000, dice=0.0000\n",
      "Epoch 93 of 100 took 0.62s | Training: loss=0.0000, iou=0.0000, dice=0.0000\n",
      "Epoch 94 of 100 took 0.61s | Training: loss=0.0000, iou=0.0000, dice=0.0000\n",
      "Epoch 95 of 100 took 0.63s | Training: loss=0.1506, iou=0.0240, dice=0.0138\n",
      "Epoch 96 of 100 took 0.62s | Training: loss=0.0000, iou=0.0000, dice=0.0000\n",
      "Epoch 97 of 100 took 0.61s | Training: loss=0.0576, iou=0.0035, dice=0.0097\n",
      "Epoch 98 of 100 took 0.60s | Training: loss=0.0000, iou=0.0000, dice=0.0000\n",
      "Epoch 99 of 100 took 0.63s | Training: loss=0.1081, iou=0.0090, dice=0.0052\n",
      "Epoch 100 of 100 took 0.61s | Training: loss=0.0015, iou=0.0001, dice=0.0005\n",
      "Validation: loss=11.7170, iou=0.8225, dice=0.4124\n"
     ]
    }
   ],
   "source": [
    "model = UNet3D(in_channels=1, out_channels=1, features=[32, 64, 128, 256])\n",
    "loss_fn = torch.nn.CrossEntropyLoss()\n",
    "#loss_fn = CombinedLoss()\n",
    "optimizer = torch.optim.Adam(model.parameters(), lr=1e-4)\n",
    "device = torch.device('cuda' if torch.cuda.is_available() else 'cpu')\n",
    "epochs = 100\n",
    "\n",
    "results = train(model, optimizer, loss_fn, train_loader, val_loader, None, device, epochs, validation_freq=10)"
   ]
  },
  {
   "cell_type": "code",
   "execution_count": 5,
   "metadata": {},
   "outputs": [
    {
     "name": "stdout",
     "output_type": "stream",
     "text": [
      "(defaultdict(<class 'list'>, {'loss': [0.0679720789194107, 0.0, 0.7727602124214172, 0.0, 0.0, 0.6264543533325195, 0.0, 0.31638190150260925, 0.0, 0.0, 0.0, 2.726597547531128, 0.0, 0.6553887724876404, 5.868748188018799, 0.0, 7.50173085462302, 0.0, 0.0, 0.29257965087890625, 0.038437869399785995, 0.651452973484993, 0.0, 0.0, 0.004290260374546051, 0.0, 0.0, 0.7895117998123169, 0.0, 0.0, 0.0, 0.0, 2.8970802426338196, 0.0, 0.3763556480407715, 0.0, 0.0, 3.4388253688812256, 1.5879701124504209, 0.0, 0.3809412121772766, 0.028798183426260948, 0.2612634301185608, 0.7639957070350647, 0.0, 0.0, 0.00811334140598774, 4.18840479850769, 0.0, 5.6877055168151855, 0.0, 3.2393860816955566, 0.0, 4.376168988645077, 0.0, 1.096845269203186, 0.6010584235191345, 0.31963779777288437, 0.03852301463484764, 0.0, 0.0, 0.08365678042173386, 0.00977045577019453, 0.0, 0.0, 0.4225943870842457, 0.927674412727356, 0.2040180265903473, 0.0, 0.0, 5.526577949523926, 0.6169031858444214, 0.0, 0.01890961267054081, 1.113991618156433, 0.0, 0.0, 0.0, 3.365861654281616, 0.0, 4.351350784301758, 0.0, 0.0, 0.9138615727424622, 0.0, 0.0, 0.0, 0.07409285008907318, 0.0, 0.0, 0.0, 0.0, 0.0, 0.0, 0.15064474940299988, 0.0, 0.057568032294511795, 0.0, 0.10809307545423508, 0.0015332949114963412], 'iou': [tensor(0.0017, device='cuda:0', grad_fn=<DivBackward0>), tensor(2.7230e-11, device='cuda:0', grad_fn=<DivBackward0>), tensor(0.0322, device='cuda:0', grad_fn=<DivBackward0>), tensor(2.8030e-11, device='cuda:0', grad_fn=<DivBackward0>), tensor(2.4259e-11, device='cuda:0', grad_fn=<DivBackward0>), tensor(0.0243, device='cuda:0', grad_fn=<DivBackward0>), tensor(2.5410e-11, device='cuda:0', grad_fn=<DivBackward0>), tensor(0.0283, device='cuda:0', grad_fn=<DivBackward0>), tensor(2.7716e-11, device='cuda:0', grad_fn=<DivBackward0>), tensor(2.3608e-11, device='cuda:0', grad_fn=<DivBackward0>), tensor(2.5280e-11, device='cuda:0', grad_fn=<DivBackward0>), tensor(0.0841, device='cuda:0', grad_fn=<DivBackward0>), tensor(2.4065e-11, device='cuda:0', grad_fn=<DivBackward0>), tensor(0.0101, device='cuda:0', grad_fn=<DivBackward0>), tensor(0.3374, device='cuda:0', grad_fn=<DivBackward0>), tensor(2.4466e-11, device='cuda:0', grad_fn=<DivBackward0>), tensor(0.1642, device='cuda:0', grad_fn=<DivBackward0>), tensor(2.5093e-11, device='cuda:0', grad_fn=<DivBackward0>), tensor(2.8092e-11, device='cuda:0', grad_fn=<DivBackward0>), tensor(0.0262, device='cuda:0', grad_fn=<DivBackward0>), tensor(0.0012, device='cuda:0', grad_fn=<DivBackward0>), tensor(0.0416, device='cuda:0', grad_fn=<DivBackward0>), tensor(2.7269e-11, device='cuda:0', grad_fn=<DivBackward0>), tensor(2.6131e-11, device='cuda:0', grad_fn=<DivBackward0>), tensor(0.0001, device='cuda:0', grad_fn=<DivBackward0>), tensor(2.9390e-11, device='cuda:0', grad_fn=<DivBackward0>), tensor(2.5974e-11, device='cuda:0', grad_fn=<DivBackward0>), tensor(0.0607, device='cuda:0', grad_fn=<DivBackward0>), tensor(2.6629e-11, device='cuda:0', grad_fn=<DivBackward0>), tensor(2.6338e-11, device='cuda:0', grad_fn=<DivBackward0>), tensor(2.7715e-11, device='cuda:0', grad_fn=<DivBackward0>), tensor(3.0491e-11, device='cuda:0', grad_fn=<DivBackward0>), tensor(0.2871, device='cuda:0', grad_fn=<DivBackward0>), tensor(2.9491e-11, device='cuda:0', grad_fn=<DivBackward0>), tensor(0.0218, device='cuda:0', grad_fn=<DivBackward0>), tensor(3.0668e-11, device='cuda:0', grad_fn=<DivBackward0>), tensor(2.7287e-11, device='cuda:0', grad_fn=<DivBackward0>), tensor(0.2645, device='cuda:0', grad_fn=<DivBackward0>), tensor(0.1185, device='cuda:0', grad_fn=<DivBackward0>), tensor(2.5132e-11, device='cuda:0', grad_fn=<DivBackward0>), tensor(0.0327, device='cuda:0', grad_fn=<DivBackward0>), tensor(0.0099, device='cuda:0', grad_fn=<DivBackward0>), tensor(0.0272, device='cuda:0', grad_fn=<DivBackward0>), tensor(0.0964, device='cuda:0', grad_fn=<DivBackward0>), tensor(2.5975e-11, device='cuda:0', grad_fn=<DivBackward0>), tensor(2.9637e-11, device='cuda:0', grad_fn=<DivBackward0>), tensor(0.0007, device='cuda:0', grad_fn=<DivBackward0>), tensor(0.4787, device='cuda:0', grad_fn=<DivBackward0>), tensor(3.0308e-11, device='cuda:0', grad_fn=<DivBackward0>), tensor(0.4175, device='cuda:0', grad_fn=<DivBackward0>), tensor(2.8364e-11, device='cuda:0', grad_fn=<DivBackward0>), tensor(0.2536, device='cuda:0', grad_fn=<DivBackward0>), tensor(2.6801e-11, device='cuda:0', grad_fn=<DivBackward0>), tensor(0.6586, device='cuda:0', grad_fn=<DivBackward0>), tensor(2.5095e-11, device='cuda:0', grad_fn=<DivBackward0>), tensor(0.0880, device='cuda:0', grad_fn=<DivBackward0>), tensor(0.0636, device='cuda:0', grad_fn=<DivBackward0>), tensor(0.0202, device='cuda:0', grad_fn=<DivBackward0>), tensor(0.0011, device='cuda:0', grad_fn=<DivBackward0>), tensor(2.4428e-11, device='cuda:0', grad_fn=<DivBackward0>), tensor(2.5955e-11, device='cuda:0', grad_fn=<DivBackward0>), tensor(0.0133, device='cuda:0', grad_fn=<DivBackward0>), tensor(9.1427e-05, device='cuda:0', grad_fn=<DivBackward0>), tensor(3.2220e-11, device='cuda:0', grad_fn=<DivBackward0>), tensor(3.5558e-11, device='cuda:0', grad_fn=<DivBackward0>), tensor(0.0999, device='cuda:0', grad_fn=<DivBackward0>), tensor(0.1303, device='cuda:0', grad_fn=<DivBackward0>), tensor(0.0121, device='cuda:0', grad_fn=<DivBackward0>), tensor(3.5546e-11, device='cuda:0', grad_fn=<DivBackward0>), tensor(2.5270e-11, device='cuda:0', grad_fn=<DivBackward0>), tensor(0.2387, device='cuda:0', grad_fn=<DivBackward0>), tensor(0.0751, device='cuda:0', grad_fn=<DivBackward0>), tensor(3.2029e-11, device='cuda:0', grad_fn=<DivBackward0>), tensor(0.0002, device='cuda:0', grad_fn=<DivBackward0>), tensor(0.0758, device='cuda:0', grad_fn=<DivBackward0>), tensor(2.5276e-11, device='cuda:0', grad_fn=<DivBackward0>), tensor(2.6694e-11, device='cuda:0', grad_fn=<DivBackward0>), tensor(2.6611e-11, device='cuda:0', grad_fn=<DivBackward0>), tensor(0.3862, device='cuda:0', grad_fn=<DivBackward0>), tensor(2.2301e-11, device='cuda:0', grad_fn=<DivBackward0>), tensor(0.3316, device='cuda:0', grad_fn=<DivBackward0>), tensor(2.2297e-11, device='cuda:0', grad_fn=<DivBackward0>), tensor(2.5420e-11, device='cuda:0', grad_fn=<DivBackward0>), tensor(0.1257, device='cuda:0', grad_fn=<DivBackward0>), tensor(2.6511e-11, device='cuda:0', grad_fn=<DivBackward0>), tensor(2.7776e-11, device='cuda:0', grad_fn=<DivBackward0>), tensor(3.1752e-11, device='cuda:0', grad_fn=<DivBackward0>), tensor(0.0038, device='cuda:0', grad_fn=<DivBackward0>), tensor(2.9267e-11, device='cuda:0', grad_fn=<DivBackward0>), tensor(2.7745e-11, device='cuda:0', grad_fn=<DivBackward0>), tensor(2.6264e-11, device='cuda:0', grad_fn=<DivBackward0>), tensor(2.8260e-11, device='cuda:0', grad_fn=<DivBackward0>), tensor(3.1209e-11, device='cuda:0', grad_fn=<DivBackward0>), tensor(3.2215e-11, device='cuda:0', grad_fn=<DivBackward0>), tensor(0.0240, device='cuda:0', grad_fn=<DivBackward0>), tensor(3.1326e-11, device='cuda:0', grad_fn=<DivBackward0>), tensor(0.0035, device='cuda:0', grad_fn=<DivBackward0>), tensor(3.2414e-11, device='cuda:0', grad_fn=<DivBackward0>), tensor(0.0090, device='cuda:0', grad_fn=<DivBackward0>), tensor(0.0001, device='cuda:0', grad_fn=<DivBackward0>)], 'dice': [tensor(0.0107, device='cuda:0'), tensor(8.8167e-05, device='cuda:0'), tensor(0.1081, device='cuda:0'), tensor(7.4945e-05, device='cuda:0'), tensor(5.6075e-05, device='cuda:0'), tensor(0.0778, device='cuda:0'), tensor(5.1301e-05, device='cuda:0'), tensor(0.0522, device='cuda:0'), tensor(6.3814e-05, device='cuda:0'), tensor(4.0589e-05, device='cuda:0'), tensor(5.2778e-05, device='cuda:0'), tensor(0.1797, device='cuda:0'), tensor(4.3588e-05, device='cuda:0'), tensor(0.0326, device='cuda:0'), tensor(0.4342, device='cuda:0'), tensor(4.3143e-05, device='cuda:0'), tensor(0.3053, device='cuda:0'), tensor(5.3124e-05, device='cuda:0'), tensor(3.4496e-05, device='cuda:0'), tensor(0.0463, device='cuda:0'), tensor(0.0034, device='cuda:0'), tensor(0.0930, device='cuda:0'), tensor(5.3095e-05, device='cuda:0'), tensor(4.2524e-05, device='cuda:0'), tensor(0.0004, device='cuda:0'), tensor(5.0501e-05, device='cuda:0'), tensor(4.7142e-05, device='cuda:0'), tensor(0.0894, device='cuda:0'), tensor(4.3416e-05, device='cuda:0'), tensor(4.7102e-05, device='cuda:0'), tensor(4.8076e-05, device='cuda:0'), tensor(4.3137e-05, device='cuda:0'), tensor(0.3197, device='cuda:0'), tensor(4.8943e-05, device='cuda:0'), tensor(0.0387, device='cuda:0'), tensor(7.0616e-05, device='cuda:0'), tensor(4.5413e-05, device='cuda:0'), tensor(0.2635, device='cuda:0'), tensor(0.1525, device='cuda:0'), tensor(3.8719e-05, device='cuda:0'), tensor(0.0428, device='cuda:0'), tensor(0.0066, device='cuda:0'), tensor(0.0328, device='cuda:0'), tensor(0.1191, device='cuda:0'), tensor(3.6378e-05, device='cuda:0'), tensor(5.9375e-05, device='cuda:0'), tensor(0.0019, device='cuda:0'), tensor(0.4576, device='cuda:0'), tensor(3.4089e-05, device='cuda:0'), tensor(0.3398, device='cuda:0'), tensor(2.4836e-05, device='cuda:0'), tensor(0.2711, device='cuda:0'), tensor(3.7868e-05, device='cuda:0'), tensor(0.3737, device='cuda:0'), tensor(3.4848e-05, device='cuda:0'), tensor(0.1285, device='cuda:0'), tensor(0.0613, device='cuda:0'), tensor(0.0332, device='cuda:0'), tensor(0.0007, device='cuda:0'), tensor(4.4221e-05, device='cuda:0'), tensor(3.5623e-05, device='cuda:0'), tensor(0.0080, device='cuda:0'), tensor(0.0002, device='cuda:0'), tensor(1.9205e-05, device='cuda:0'), tensor(7.0554e-05, device='cuda:0'), tensor(0.0348, device='cuda:0'), tensor(0.1379, device='cuda:0'), tensor(0.0118, device='cuda:0'), tensor(1.7258e-05, device='cuda:0'), tensor(3.0894e-05, device='cuda:0'), tensor(0.1622, device='cuda:0'), tensor(0.0335, device='cuda:0'), tensor(3.1996e-05, device='cuda:0'), tensor(0.0004, device='cuda:0'), tensor(0.0476, device='cuda:0'), tensor(2.1227e-05, device='cuda:0'), tensor(1.2475e-05, device='cuda:0'), tensor(1.3114e-05, device='cuda:0'), tensor(0.1499, device='cuda:0'), tensor(2.6530e-05, device='cuda:0'), tensor(0.1585, device='cuda:0'), tensor(2.0149e-05, device='cuda:0'), tensor(1.3005e-05, device='cuda:0'), tensor(0.0535, device='cuda:0'), tensor(2.2859e-05, device='cuda:0'), tensor(1.8213e-05, device='cuda:0'), tensor(2.9112e-05, device='cuda:0'), tensor(0.0085, device='cuda:0'), tensor(1.3155e-05, device='cuda:0'), tensor(1.7507e-05, device='cuda:0'), tensor(2.1517e-05, device='cuda:0'), tensor(3.1366e-05, device='cuda:0'), tensor(1.4538e-05, device='cuda:0'), tensor(1.8182e-05, device='cuda:0'), tensor(0.0138, device='cuda:0'), tensor(1.5643e-05, device='cuda:0'), tensor(0.0097, device='cuda:0'), tensor(1.7080e-05, device='cuda:0'), tensor(0.0052, device='cuda:0'), tensor(0.0005, device='cuda:0')]}), defaultdict(<class 'list'>, {'loss': [0.0, 0.0, 0.0, 0.48198699951171875, 0.0, 0.0, 0.0, 0.0, 8.752769470214844, 11.7169828414917], 'iou': [tensor(1.1917e-10, device='cuda:0', grad_fn=<DivBackward0>), tensor(2.0546e-11, device='cuda:0', grad_fn=<DivBackward0>), tensor(2.3626e-11, device='cuda:0', grad_fn=<DivBackward0>), tensor(0.0184, device='cuda:0', grad_fn=<DivBackward0>), tensor(4.4267e-11, device='cuda:0', grad_fn=<DivBackward0>), tensor(2.7105e-10, device='cuda:0', grad_fn=<DivBackward0>), tensor(1.6941e-11, device='cuda:0', grad_fn=<DivBackward0>), tensor(2.3978e-11, device='cuda:0', grad_fn=<DivBackward0>), tensor(0.6089, device='cuda:0', grad_fn=<DivBackward0>), tensor(0.8225, device='cuda:0', grad_fn=<DivBackward0>)], 'dice': [tensor(0.0004, device='cuda:0'), tensor(4.7407e-05, device='cuda:0'), tensor(5.2590e-05, device='cuda:0'), tensor(0.0419, device='cuda:0'), tensor(3.4374e-05, device='cuda:0'), tensor(2.7518e-05, device='cuda:0'), tensor(1.3578e-05, device='cuda:0'), tensor(1.6890e-05, device='cuda:0'), tensor(0.2863, device='cuda:0'), tensor(0.4124, device='cuda:0')]}))\n"
     ]
    }
   ],
   "source": [
    "print(results)"
   ]
  }
 ],
 "metadata": {
  "kernelspec": {
   "display_name": "dml",
   "language": "python",
   "name": "python3"
  },
  "language_info": {
   "codemirror_mode": {
    "name": "ipython",
    "version": 3
   },
   "file_extension": ".py",
   "mimetype": "text/x-python",
   "name": "python",
   "nbconvert_exporter": "python",
   "pygments_lexer": "ipython3",
   "version": "3.11.10"
  }
 },
 "nbformat": 4,
 "nbformat_minor": 2
}
